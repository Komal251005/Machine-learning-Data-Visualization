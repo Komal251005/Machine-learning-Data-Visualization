{
 "cells": [
  {
   "cell_type": "markdown",
   "id": "62af3400-7909-43ea-af06-f47ea7506ca6",
   "metadata": {},
   "source": [
    "Every year many students give the GRE exam to get admission in foreign Universities. The data\n",
    "set contains GRE Scores (out of 340), TOEFL Scores (out of 120), University Rating (out of 5),\n",
    "Statement of Purpose strength (out of 5), Letter of Recommendation strength (out of 5),\n",
    "Undergraduate GPA (out of 10), Research Experience (0=no, 1=yes), Admitted (0=no, 1=yes).\n",
    "Admitted is the target variable.\n",
    "\n",
    "Data Set Available on kaggle (The last column of the dataset needs to be changed to 0 or 1 \n",
    "\n",
    "Data Set : https://www.kaggle.com/mohansacharya/graduate-admissions\n",
    "\n",
    "The counselor of the firm is supposed check whether the student will get an admission or not\n",
    "based on his/her GRE score and Academic Score. So to help the counselor to take appropriate\n",
    "decisions build a machine learning model classifier using Decision tree to predict whether a\n",
    "student will get admission or not.\n",
    "\n",
    "1. Apply Data pre-processing (Label Encoding, Data Transformation….) techniques ifnecessary.\n",
    "2. Perform data-preparation (Train-Test Split)\n",
    "3. Apply Machine Learning Algorithm\n",
    "4. Evaluate Model.\n"
   ]
  },
  {
   "cell_type": "code",
   "execution_count": null,
   "id": "e0440697-fda3-4e94-b2d7-5d2379341c27",
   "metadata": {},
   "outputs": [],
   "source": []
  }
 ],
 "metadata": {
  "kernelspec": {
   "display_name": "Python 3 (ipykernel)",
   "language": "python",
   "name": "python3"
  },
  "language_info": {
   "codemirror_mode": {
    "name": "ipython",
    "version": 3
   },
   "file_extension": ".py",
   "mimetype": "text/x-python",
   "name": "python",
   "nbconvert_exporter": "python",
   "pygments_lexer": "ipython3",
   "version": "3.14.0"
  }
 },
 "nbformat": 4,
 "nbformat_minor": 5
}
